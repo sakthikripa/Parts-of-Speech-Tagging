{
  "nbformat": 4,
  "nbformat_minor": 0,
  "metadata": {
    "colab": {
      "name": "Parts of Speech Tagging using Hidden Markov Model.ipynb",
      "provenance": [],
      "collapsed_sections": [],
      "toc_visible": true
    },
    "kernelspec": {
      "name": "python3",
      "display_name": "Python 3"
    },
    "language_info": {
      "name": "python"
    }
  },
  "cells": [
    {
      "cell_type": "markdown",
      "source": [
        "# Parts of speech tagging. \n",
        "\n",
        "Parts of Speech Tagging is the process of the assigning a parts of speech tag (noun, adjective etc..,) to each word in the input sentence. <br>\n",
        "\n",
        "In this question we will be building HMMs and Viterbi Algorithm. \n",
        "\n",
        "### About the Dataset: <br>\n",
        "\n",
        "For this task we will be using tagged datasets collected from Wall Street Journal. <br>\n",
        "\n",
        "The file train.pos will be used for training and test.pos will for testing. Along with these two we will be providing vocab.txt the words in this file are the words from the training set that were used two or more times.<br>\n",
        "\n",
        "The dataset will contain different tags like JJ which means adjective, DT means determiner etc.., for better understaning of the tags refer to [this link](http://relearn.be/2015/training-common-sense/sources/software/pattern-2.6-critical-fork/docs/html/mbsp-tags.html)"
      ],
      "metadata": {
        "id": "tEAiEe-ZxW5r"
      }
    },
    {
      "cell_type": "code",
      "source": [
        "##############################################################################################\n",
        "##### Dont change anything in this code cell , only change the data paths accordingly  #######\n",
        "##############################################################################################\n",
        "\n",
        "#Importing necessary packages\n",
        "\n",
        "import pandas as pd\n",
        "from collections import defaultdict\n",
        "import math\n",
        "import numpy as np\n",
        "import string\n",
        "\n",
        "# Punctuation characters\n",
        "punct = set(string.punctuation)\n",
        "\n",
        "# Morphology rules used to assign unknown word tokens\n",
        "noun_suffix = [\"action\", \"age\", \"ance\", \"cy\", \"dom\", \"ee\", \"ence\", \"er\", \"hood\", \"ion\", \"ism\", \"ist\", \"ity\", \"ling\", \"ment\", \"ness\", \"or\", \"ry\", \"scape\", \"ship\", \"ty\"]\n",
        "verb_suffix = [\"ate\", \"ify\", \"ise\", \"ize\"]\n",
        "adj_suffix = [\"able\", \"ese\", \"ful\", \"i\", \"ian\", \"ible\", \"ic\", \"ish\", \"ive\", \"less\", \"ly\", \"ous\"]\n",
        "adv_suffix = [\"ward\", \"wards\", \"wise\"]\n",
        "\n",
        "# Utility functions which we further need\n",
        "\n",
        "def get_word_tag(line, vocab): \n",
        "    if not line.split():\n",
        "        word = \"--n--\"\n",
        "        tag = \"--s--\"\n",
        "        return word, tag\n",
        "    else:\n",
        "        word, tag = line.split()\n",
        "        if word not in vocab: \n",
        "            # Handle unknown words\n",
        "            word = assign_unk(word)\n",
        "        return word, tag\n",
        "    return None \n",
        "\n",
        "\n",
        "def preprocess(vocab, data_fp):\n",
        "    \"\"\"\n",
        "    Preprocess data\n",
        "    \"\"\"\n",
        "    orig = []\n",
        "    prep = []\n",
        "\n",
        "    # Read data\n",
        "    with open(data_fp, \"r\") as data_file:\n",
        "\n",
        "        for cnt, word in enumerate(data_file):\n",
        "\n",
        "            # End of sentence\n",
        "            if not word.split():\n",
        "                orig.append(word.strip())\n",
        "                word = \"--n--\"\n",
        "                prep.append(word)\n",
        "                continue\n",
        "\n",
        "            # Handle unknown words\n",
        "            elif word.strip() not in vocab:\n",
        "                orig.append(word.strip())\n",
        "                word = assign_unk(word)\n",
        "                prep.append(word)\n",
        "                continue\n",
        "\n",
        "            else:\n",
        "                orig.append(word.strip())\n",
        "                prep.append(word.strip())\n",
        "\n",
        "    assert(len(orig) == len(open(data_fp, \"r\").readlines()))\n",
        "    assert(len(prep) == len(open(data_fp, \"r\").readlines()))\n",
        "\n",
        "    return orig, prep\n",
        "\n",
        "\n",
        "def assign_unk(tok):\n",
        "    \"\"\"\n",
        "    Assign unknown word tokens\n",
        "    \"\"\"\n",
        "    # Digits\n",
        "    if any(char.isdigit() for char in tok):\n",
        "        return \"--unk_digit--\"\n",
        "\n",
        "    # Punctuation\n",
        "    elif any(char in punct for char in tok):\n",
        "        return \"--unk_punct--\"\n",
        "\n",
        "    # Upper-case\n",
        "    elif any(char.isupper() for char in tok):\n",
        "        return \"--unk_upper--\"\n",
        "\n",
        "    # Nouns\n",
        "    elif any(tok.endswith(suffix) for suffix in noun_suffix):\n",
        "        return \"--unk_noun--\"\n",
        "\n",
        "    # Verbs\n",
        "    elif any(tok.endswith(suffix) for suffix in verb_suffix):\n",
        "        return \"--unk_verb--\"\n",
        "\n",
        "    # Adjectives\n",
        "    elif any(tok.endswith(suffix) for suffix in adj_suffix):\n",
        "        return \"--unk_adj--\"\n",
        "\n",
        "    # Adverbs\n",
        "    elif any(tok.endswith(suffix) for suffix in adv_suffix):\n",
        "        return \"--unk_adv--\"\n",
        "\n",
        "    return \"--unk--\"\n",
        "\n",
        "\n",
        "# for viterbi\n",
        "def compute_accuracy(pred, y):\n",
        "    '''\n",
        "    Input: \n",
        "        pred: a list of the predicted parts-of-speech \n",
        "        y: a list of lines where each word is separated by a '\\t' (i.e. word \\t tag)\n",
        "    Output: \n",
        "        \n",
        "    '''\n",
        "    num_correct = 0\n",
        "    total = 0\n",
        "    \n",
        "    # Zip together the prediction and the labels\n",
        "    for prediction, y in zip(pred, y):\n",
        "        ### START CODE HERE (Replace instances of 'None' with your code) ###\n",
        "        # Split the label into the word and the POS tag\n",
        "        word_tag_tuple = y.split()\n",
        "        \n",
        "        # Check that there is actually a word and a tag\n",
        "        # no more and no less than 2 items\n",
        "        if len(word_tag_tuple)!=2: # complete this line\n",
        "            continue \n",
        "\n",
        "        # store the word and tag separately\n",
        "        word, tag = word_tag_tuple\n",
        "        \n",
        "        # Check if the POS tag label matches the prediction\n",
        "        if prediction == tag: # complete this line\n",
        "            \n",
        "            # count the number of times that the prediction\n",
        "            # and label match\n",
        "            num_correct += 1\n",
        "            \n",
        "        # keep track of the total number of examples (that have valid labels)\n",
        "        total += 1\n",
        "        \n",
        "        ### END CODE HERE ###\n",
        "    return num_correct/total\n",
        "\n",
        "\n",
        "# load in the training corpus\n",
        "with open(\"/training.pos.txt\", 'r') as f:\n",
        "    training_corpus = f.readlines()\n",
        "\n",
        "# read the vocabulary data, split by each line of text, and save the list\n",
        "with open(\"/vocab.txt\", 'r') as f:\n",
        "    voc_l = f.read().split('\\n')\n",
        "\n",
        "# vocab: dictionary that has the index of the corresponding words\n",
        "vocab = {} \n",
        "\n",
        "# Get the index of the corresponding words. \n",
        "for i, word in enumerate(sorted(voc_l)): \n",
        "    vocab[word] = i       \n",
        "    \n",
        "\n",
        "cnt = 0\n",
        "for k,v in vocab.items():\n",
        "    cnt += 1\n",
        "    if cnt > 20:\n",
        "        break\n",
        "\n",
        "# load in the test corpus\n",
        "with open(\"/test.pos.txt\", 'r') as f:\n",
        "    y = f.readlines()\n",
        "\n",
        "#corpus without tags, preprocessed\n",
        "_, prep = preprocess(vocab, \"/test.words.txt\")\n",
        "\n"
      ],
      "metadata": {
        "id": "rg5E-2k7xbP6"
      },
      "execution_count": null,
      "outputs": []
    },
    {
      "cell_type": "markdown",
      "source": [
        "### Task 3.1 \n",
        "\n",
        "In this task we are expected to build a function which takes training_corpus as input and return transition counts, emission counts and tag counts. <br> \n",
        "\n",
        "\n",
        "\n",
        "1. `Tranition count`: maps prev_tag, tag) to the number of times it has appeared.\n",
        "2. `Emission_counts`: maps (tag, word) to the number of times it appeared.\n",
        "3. `Tag_counts`: maps (tag) to the number of times it has occured.\n",
        "\n"
      ],
      "metadata": {
        "id": "kiF3lMICSIVg"
      }
    },
    {
      "cell_type": "code",
      "source": [
        "def create_dictionaries(training_corpus, vocab):\n",
        "    \"\"\"\n",
        "    Input: \n",
        "        training_corpus: a corpus where each line has a word followed by its tag.\n",
        "        vocab: a dictionary where keys are words in vocabulary and value is an index\n",
        "    Output: \n",
        "        emission_counts: a dictionary where the keys are (tag, word) and the values are the counts\n",
        "        transition_counts: a dictionary where the keys are (prev_tag, tag) and the values are the counts\n",
        "        tag_counts: a dictionary where the keys are the tags and the values are the counts\n",
        "    \"\"\"\n",
        "    # initialize the dictionaries using defaultdict\n",
        "    emission_counts = defaultdict(int)\n",
        "    transition_counts = defaultdict(int)\n",
        "    tag_counts = defaultdict(int)\n",
        "    \n",
        "    # Initialize \"prev_tag\" (previous tag) with the start state, denoted by '--s--'\n",
        "    prev_tag = '--s--' \n",
        "    \n",
        "    # use 'i' to track the line number in the corpus\n",
        "    i = 0 \n",
        "    \n",
        "    # Each item in the training corpus contains a word and its POS tag\n",
        "    # Go through each word and its tag in the training corpus\n",
        "    for word_tag in training_corpus:\n",
        "        \n",
        "        # Increment the word_tag count\n",
        "        i += 1\n",
        "        \n",
        "        # Every 50,000 words, print the word count\n",
        "        if i % 50000 == 0:\n",
        "            print(f\"word count = {i}\")\n",
        "            \n",
        "        ### START CODE HERE (Replace instances of 'None' with your code) ###\n",
        "        # get the word and tag using the get_word_tag helper function\n",
        "        word, tag = get_word_tag(word_tag, vocab)\n",
        "        \n",
        "        # Increment the transition count for the previous word and tag\n",
        "        transition_counts[(prev_tag, tag)] += 1\n",
        "        \n",
        "        # Increment the emission count for the tag and word\n",
        "        emission_counts[(tag, word)] += 1\n",
        "\n",
        "        # Increment the tag count\n",
        "        tag_counts[tag] += 1\n",
        "\n",
        "        # Set the previous tag to this tag (for the next iteration of the loop)\n",
        "        prev_tag = tag\n",
        "        \n",
        "        ### END CODE HERE ###\n",
        "        \n",
        "    return emission_counts, transition_counts, tag_counts"
      ],
      "metadata": {
        "id": "gr8yMvKmOsZP"
      },
      "execution_count": null,
      "outputs": []
    },
    {
      "cell_type": "code",
      "source": [
        "emission_counts, transition_counts, tag_counts = create_dictionaries(training_corpus, vocab)"
      ],
      "metadata": {
        "id": "Q-OVNdq6Osoz",
        "colab": {
          "base_uri": "https://localhost:8080/"
        },
        "outputId": "9d3604a7-b5bf-4559-f707-d33eee6d350c"
      },
      "execution_count": null,
      "outputs": [
        {
          "output_type": "stream",
          "name": "stdout",
          "text": [
            "word count = 50000\n",
            "word count = 100000\n",
            "word count = 150000\n",
            "word count = 200000\n",
            "word count = 250000\n",
            "word count = 300000\n",
            "word count = 350000\n",
            "word count = 400000\n",
            "word count = 450000\n",
            "word count = 500000\n",
            "word count = 550000\n",
            "word count = 600000\n",
            "word count = 650000\n",
            "word count = 700000\n",
            "word count = 750000\n",
            "word count = 800000\n",
            "word count = 850000\n",
            "word count = 900000\n",
            "word count = 950000\n"
          ]
        }
      ]
    },
    {
      "cell_type": "code",
      "source": [
        "# get all the POS states. States are parts of speech designation found in the training dataset.\n",
        "states = sorted(tag_counts.keys())\n",
        "print(f\"Number of POS tags (number of 'states'): {len(states)}\")\n",
        "print(\"View these POS tags (states)\")\n",
        "print(states)"
      ],
      "metadata": {
        "id": "_Qu97we4WTse",
        "colab": {
          "base_uri": "https://localhost:8080/"
        },
        "outputId": "7c008f8e-6e7a-41f7-c4c3-95a9f37e680c"
      },
      "execution_count": null,
      "outputs": [
        {
          "output_type": "stream",
          "name": "stdout",
          "text": [
            "Number of POS tags (number of 'states'): 46\n",
            "View these POS tags (states)\n",
            "['#', '$', \"''\", '(', ')', ',', '--s--', '.', ':', 'CC', 'CD', 'DT', 'EX', 'FW', 'IN', 'JJ', 'JJR', 'JJS', 'LS', 'MD', 'NN', 'NNP', 'NNPS', 'NNS', 'PDT', 'POS', 'PRP', 'PRP$', 'RB', 'RBR', 'RBS', 'RP', 'SYM', 'TO', 'UH', 'VB', 'VBD', 'VBG', 'VBN', 'VBP', 'VBZ', 'WDT', 'WP', 'WP$', 'WRB', '``']\n"
          ]
        }
      ]
    },
    {
      "cell_type": "markdown",
      "source": [
        "##### Expected Output\n",
        "\n",
        "```CPP\n",
        "Number of POS tags (number of 'states'46\n",
        "View these states\n",
        "['#', '$', \"''\", '(', ')', ',', '--s--', '.', ':', 'CC', 'CD', 'DT', 'EX', 'FW', 'IN', 'JJ', 'JJR', 'JJS', 'LS', 'MD', 'NN', 'NNP', 'NNPS', 'NNS', 'PDT', 'POS', 'PRP', 'PRP$', 'RB', 'RBR', 'RBS', 'RP', 'SYM', 'TO', 'UH', 'VB', 'VBD', 'VBG', 'VBN', 'VBP', 'VBZ', 'WDT', 'WP', 'WP$', 'WRB', '``']\n",
        "```"
      ],
      "metadata": {
        "id": "0vVsk2TqXnq4"
      }
    },
    {
      "cell_type": "code",
      "source": [
        "print(\"transition examples: \")\n",
        "for ex in list(transition_counts.items())[:3]:\n",
        "    print(ex)\n",
        "print()\n",
        "\n",
        "print(\"emission examples: \")\n",
        "for ex in list(emission_counts.items())[:3]:\n",
        "    print (ex)\n",
        "print()\n",
        "\n",
        "print(\"ambiguous word example: \")\n",
        "for tup,cnt in list(emission_counts.items())[:3]:\n",
        "    print(tup, cnt) "
      ],
      "metadata": {
        "id": "94MESMDvWrcK",
        "colab": {
          "base_uri": "https://localhost:8080/"
        },
        "outputId": "f43e91b2-ebc7-4200-82d4-2a0fe9212da6"
      },
      "execution_count": null,
      "outputs": [
        {
          "output_type": "stream",
          "name": "stdout",
          "text": [
            "transition examples: \n",
            "(('--s--', 'IN'), 5050)\n",
            "(('IN', 'DT'), 32364)\n",
            "(('DT', 'NNP'), 9044)\n",
            "\n",
            "emission examples: \n",
            "(('IN', 'In'), 1735)\n",
            "(('DT', 'an'), 3142)\n",
            "(('NNP', 'Oct.'), 317)\n",
            "\n",
            "ambiguous word example: \n",
            "('IN', 'In') 1735\n",
            "('DT', 'an') 3142\n",
            "('NNP', 'Oct.') 317\n"
          ]
        }
      ]
    },
    {
      "cell_type": "markdown",
      "source": [
        "\n",
        "##### Expected Output\n",
        "\n",
        "```CPP\n",
        "transition examples: \n",
        "(('--s--', 'IN'), 5050)\n",
        "(('IN', 'DT'), 32364)\n",
        "(('DT', 'NNP'), 9044)\n",
        "\n",
        "emission examples: \n",
        "(('IN', 'In'), 1735)\n",
        "(('DT', 'an'), 3142)\n",
        "(('NNP', 'Oct.'), 317)\n",
        "\n",
        "ambiguous word example: \n",
        "('IN', 'In') 1735\n",
        "('DT', 'an') 3142\n",
        "('NNP', 'Oct.') 317\n",
        "```"
      ],
      "metadata": {
        "id": "vGl4GGZ9Xx54"
      }
    },
    {
      "cell_type": "markdown",
      "source": [
        "### Task 3.2: \n",
        "\n",
        "You need to complete the `predict_pos` function below which takes preprocessed test corpus (prep), Original tagged test corpus `y`, emission counts, vocab and states. <br>\n",
        "\n",
        "Ultimately in this function for a given preprocessed test corpus, you will assign a parts-of-speech tag to every word in that corpus. Using the original tagged test corpus, you will then compute what percent of the tags you got correct. <br>"
      ],
      "metadata": {
        "id": "hsoeGOxvXq__"
      }
    },
    {
      "cell_type": "code",
      "source": [
        "def predict_pos(prep, y, emission_counts, vocab, states):\n",
        "    '''\n",
        "    Input: \n",
        "        prep: a preprocessed version of 'y'. A list with the 'word' component of the tuples.\n",
        "        y: a corpus composed of a list of tuples where each tuple consists of (word, POS)\n",
        "        emission_counts: a dictionary where the keys are (tag,word) tuples and the value is the count\n",
        "        vocab: a dictionary where keys are words in vocabulary and value is an index\n",
        "        states: a sorted list of all possible tags for this assignment\n",
        "    Output: \n",
        "        accuracy: Number of times you classified a word correctly\n",
        "    '''\n",
        "    \n",
        "        # Initialize the number of correct predictions to zero\n",
        "    num_correct = 0\n",
        "    \n",
        "    # Get the (tag, word) tuples, stored as a set\n",
        "    all_words = set(emission_counts.keys())\n",
        "    \n",
        "    # Get the number of (word, POS) tuples in the corpus 'y'\n",
        "    total = len(y)\n",
        "    for word, y_tup in zip(prep, y):\n",
        "# Split the (word, POS) string into a list of two items\n",
        "        y_tup_l = y_tup.split()\n",
        "        \n",
        "        # Verify that y_tup contain both word and POS\n",
        "        if len(y_tup_l) == 2:\n",
        "            \n",
        "            # Set the true POS label for this word\n",
        "            true_label = y_tup_l[1]\n",
        "        else:\n",
        "            # If the y_tup didn't contain word and POS, go to next word\n",
        "            continue\n",
        "    \n",
        "        count_final = 0\n",
        "        pos_final = ''\n",
        "        \n",
        "        # If the word is in the vocabulary...\n",
        "        if word in vocab:\n",
        "            for pos in states:\n",
        "                \n",
        "                ### START CODE HERE (Replace instances of 'None' with your code) ###                        \n",
        "                # define the key as the tuple containing the POS and word\n",
        "                key = (pos,word)\n",
        "        # check if the (pos, word) key exists in the emission_counts dictionary\n",
        "                if key in emission_counts: # complete this line\n",
        "        # get the emission count of the (pos,word) tuple \n",
        "                    count = emission_counts[key]\n",
        "        # keep track of the POS with the largest count\n",
        "                    if count>count_final: # complete this line\n",
        "        # update the final count (largest count)\n",
        "                        count_final = count\n",
        "        # update the final POS\n",
        "                        pos_final = pos\n",
        "        # If the final POS (with the largest count) matches the true POS:\n",
        "            if pos_final == true_label: # complete this line\n",
        "                \n",
        "                # Update the number of correct predictions\n",
        "                num_correct += 1\n",
        "                \n",
        "       ### END CODE HERE ###\n",
        "    accuracy = num_correct / total\n",
        "    \n",
        "    return accuracy"
      ],
      "metadata": {
        "id": "pT6XFFHdZaKM"
      },
      "execution_count": null,
      "outputs": []
    },
    {
      "cell_type": "code",
      "source": [
        "accuracy_predict_pos = predict_pos(prep, y, emission_counts, vocab, states)\n",
        "print(f\"Accuracy of prediction using predict_pos is {accuracy_predict_pos:.4f}\")"
      ],
      "metadata": {
        "id": "K9p6rFQmZhVd",
        "colab": {
          "base_uri": "https://localhost:8080/"
        },
        "outputId": "4bba4f7c-c967-4daa-8c1b-643b8d45c18b"
      },
      "execution_count": null,
      "outputs": [
        {
          "output_type": "stream",
          "name": "stdout",
          "text": [
            "Accuracy of prediction using predict_pos is 0.8889\n"
          ]
        }
      ]
    },
    {
      "cell_type": "markdown",
      "source": [
        "##### Expected Output\n",
        "\n",
        "```CPP\n",
        "Accuracy of prediction using predict_pos is 0.8889\n",
        "```"
      ],
      "metadata": {
        "id": "ouVVpP11YsyA"
      }
    },
    {
      "cell_type": "markdown",
      "source": [
        "### Task 3.3 Building Hidden Markov Models for POS.\n",
        "\n",
        "**Hidden Markov Models** (HMMs) are a class of probabilistic graphical model that allow us to predict a sequence of unknown (hidden) variables from a set of observed variables. <br>\n",
        "\n",
        "The Markov Model contains a number of states and the probability of transition between those states. \n",
        "- In this case, the states are the parts-of-speech. \n",
        "- A Markov Model utilizes a transition matrix, `A`. \n",
        "- A Hidden Markov Model adds an observation or emission matrix `B` which describes the probability of a visible observation when we are in a particular state. \n",
        "- In this case, the emissions are the words in the corpus\n",
        "- The state, which is hidden, is the POS tag of that word.\n"
      ],
      "metadata": {
        "id": "FTJ_W6jWb7gc"
      }
    },
    {
      "cell_type": "markdown",
      "source": [
        "### Creating the 'A' transition probabilities matrix\n",
        "\n",
        "We will be using Smoothing to compute the matrix. \n",
        "\n",
        "The smoothing was done as follows: \n",
        "\n",
        "$$ P(t_i | t_{i-1}) = \\frac{C(t_{i-1}, t_{i}) + \\alpha }{C(t_{i-1}) +\\alpha * N}$$\n",
        "\n",
        "- $N$ is the total number of tags\n",
        "- $C(t_{i-1}, t_{i})$ is the count of the tuple (previous POS, current POS) in `transition_counts` dictionary.\n",
        "- $C(t_{i-1})$ is the count of the previous POS in the `tag_counts` dictionary.\n",
        "- $\\alpha$ is a smoothing parameter."
      ],
      "metadata": {
        "id": "BJa3ynC-ePOl"
      }
    },
    {
      "cell_type": "code",
      "source": [
        "# GRADED FUNCTION: create_transition_matrix\n",
        "def create_transition_matrix(alpha, tag_counts, transition_counts):\n",
        "    ''' \n",
        "    Input: \n",
        "        alpha: number used for smoothing\n",
        "        tag_counts: a dictionary mapping each tag to its respective count\n",
        "        transition_counts: transition count for the previous word and tag\n",
        "    Output:\n",
        "        A: matrix of dimension (num_tags,num_tags)\n",
        "    '''\n",
        "    \n",
        "    # Write your code here\n",
        "    # Get a sorted list of unique POS tags\n",
        "    all_tags = sorted(tag_counts.keys())\n",
        "    \n",
        "    # Count the number of unique POS tags\n",
        "    num_tags = len(all_tags)\n",
        "    \n",
        "    # Initialize the transition matrix 'A'\n",
        "    A = np.zeros((num_tags,num_tags))\n",
        "    \n",
        "    # Get the unique transition tuples (previous POS, current POS)\n",
        "    trans_keys = set(transition_counts.keys())\n",
        "    \n",
        "    \n",
        "    # Go through each row of the transition matrix A\n",
        "    for i in range(num_tags):\n",
        "        \n",
        "        # Go through each column of the transition matrix A\n",
        "        for j in range(num_tags):\n",
        "    # Initialize the count of the (prev POS, current POS) to zero\n",
        "            count = 0\n",
        "        \n",
        "            # Define the tuple (prev POS, current POS)\n",
        "            # Get the tag at position i and tag at position j (from the all_tags list)\n",
        "            key = (all_tags[i], all_tags[j])\n",
        "    # Check if the (prev POS, current POS) tuple \n",
        "            # exists in the transition counts dictionary\n",
        "            if transition_counts: #complete this line\n",
        "                \n",
        "                # Get count from the transition_counts dictionary \n",
        "                # for the (prev POS, current POS) tuple\n",
        "                count = transition_counts[key]\n",
        "                \n",
        "            # Get the count of the previous tag (index position i) from tag_counts\n",
        "            count_prev_tag = tag_counts[all_tags[i]]\n",
        "            \n",
        "            # Apply smoothing using count of the tuple, alpha, \n",
        "            # count of previous tag, alpha, and total number of tags\n",
        "            A[i,j] = (count + alpha) / (count_prev_tag + alpha*num_tags)\n",
        "    \n",
        "\n",
        "    \n",
        "    \n",
        "    return A"
      ],
      "metadata": {
        "id": "lz5xHj8QegXt"
      },
      "execution_count": null,
      "outputs": []
    },
    {
      "cell_type": "code",
      "source": [
        "alpha = 0.001\n",
        "A = create_transition_matrix(alpha, tag_counts, transition_counts)\n",
        "# Testing your function\n",
        "print(f\"A at row 0, col 0: {A[0,5]:.9f}\")\n",
        "print(f\"A at row 3, col 1: {A[3,6]:.4f}\")\n",
        "\n",
        "print(\"View a subset of transition matrix A\")\n",
        "A_sub = pd.DataFrame(A[10:15,10:15], index=states[10:15], columns = states[10:15] )\n",
        "print(A_sub)"
      ],
      "metadata": {
        "id": "d7qelj9meq2b",
        "colab": {
          "base_uri": "https://localhost:8080/"
        },
        "outputId": "c4ff2bb4-2eb9-4f68-8886-56a339d61af2"
      },
      "execution_count": null,
      "outputs": [
        {
          "output_type": "stream",
          "name": "stdout",
          "text": [
            "A at row 0, col 0: 0.007047013\n",
            "A at row 3, col 1: 0.0000\n",
            "View a subset of transition matrix A\n",
            "          CD        DT            EX        FW        IN\n",
            "CD  0.201542  0.028850  2.734628e-08  0.000055  0.089997\n",
            "DT  0.022922  0.001576  1.221866e-08  0.000257  0.009665\n",
            "EX  0.000001  0.002319  1.158687e-06  0.000001  0.000001\n",
            "FW  0.000004  0.008550  4.272664e-06  0.239273  0.029913\n",
            "IN  0.059328  0.328388  1.582898e-03  0.000203  0.020415\n"
          ]
        }
      ]
    },
    {
      "cell_type": "markdown",
      "source": [
        "#### Expected Output: \n",
        "\n",
        "```CPP\n",
        "A at row 0, col 0: 0.007047013\n",
        "A at row 3, col 1: 0.0000\n",
        "View a subset of transition matrix A\n",
        "          CD        DT            EX        FW        IN\n",
        "CD  0.201542  0.028850  2.734628e-08  0.000055  0.089997\n",
        "DT  0.022922  0.001576  1.221866e-08  0.000257  0.009665\n",
        "EX  0.000001  0.002319  1.158687e-06  0.000001  0.000001\n",
        "FW  0.000004  0.008550  4.272664e-06  0.239273  0.029913\n",
        "IN  0.059328  0.328388  1.582898e-03  0.000203  0.020415\n",
        "```"
      ],
      "metadata": {
        "id": "GgBwL-UaZJgw"
      }
    },
    {
      "cell_type": "markdown",
      "source": [
        "### Creating 'B' emission probabilities matrix\n",
        "\n",
        "Now you will create the `B` transition matrix which computes the emission probability. \n",
        "\n",
        "You will use smoothing as defined below: \n",
        "\n",
        "$$P(w_i | t_i) = \\frac{C(t_i, word_i)+ \\alpha}{C(t_{i}) +\\alpha * N}\\$$\n",
        "\n",
        "- $C(t_i, word_i)$ is the number of times $word_i$ was associated with $tag_i$ in the training data (stored in `emission_counts` dictionary).\n",
        "- $C(t_i)$ is the number of times $tag_i$ was in the training data (stored in `tag_counts` dictionary).\n",
        "- $N$ is the number of words in the vocabulary\n",
        "- $\\alpha$ is a smoothing parameter. \n",
        "\n",
        "The matrix `B` is of dimension (num_tags, N), where num_tags is the number of possible parts-of-speech tags. "
      ],
      "metadata": {
        "id": "SNm4kE26ftrC"
      }
    },
    {
      "cell_type": "code",
      "source": [
        "# UNQ_C4 (UNIQUE CELL IDENTIFIER, DO NOT EDIT)\n",
        "# GRADED FUNCTION: create_emission_matrix\n",
        "\n",
        "def create_emission_matrix(alpha, tag_counts, emission_counts, vocab):\n",
        "    '''\n",
        "    Input: \n",
        "        alpha: tuning parameter used in smoothing \n",
        "        tag_counts: a dictionary mapping each tag to its respective count\n",
        "        emission_counts: a dictionary where the keys are (tag, word) and the values are the counts\n",
        "        vocab: a dictionary where keys are words in vocabulary and value is an index\n",
        "    Output:\n",
        "        B: a matrix of dimension (num_tags, len(vocab))\n",
        "    '''\n",
        "     # get the number of POS tag\n",
        "    num_tags = len(tag_counts)\n",
        "    \n",
        "    # Get a list of all POS tags\n",
        "    all_tags = sorted(tag_counts.keys())\n",
        "    \n",
        "    # Get the total number of unique words in the vocabulary\n",
        "    num_words = len(vocab)\n",
        "    \n",
        "    # Initialize the emission matrix B with places for\n",
        "    # tags in the rows and words in the columns\n",
        "    B = np.zeros((num_tags, num_words))\n",
        "    \n",
        "    # Get a set of all (POS, word) tuples \n",
        "    # from the keys of the emission_counts dictionary\n",
        "    emis_keys = set(list(emission_counts.keys()))\n",
        "    \n",
        "    # Go through each row (POS tags)\n",
        "    for i in range(num_tags): # complete this line\n",
        "        \n",
        "        # Go through each column (words)\n",
        "        for j in range(num_words): # complete this line\n",
        "# Initialize the emission count for the (POS tag, word) to zero\n",
        "            count = 0\n",
        "                    \n",
        "            # Define the (POS tag, word) tuple for this row and column\n",
        "            key =  (all_tags[i],vocab[j])\n",
        "# check if the (POS tag, word) tuple exists as a key in emission counts\n",
        "            if key in emission_counts.keys(): # complete this line\n",
        "        \n",
        "                # Get the count of (POS tag, word) from the emission_counts d\n",
        "                count = emission_counts[key]\n",
        "                \n",
        "            # Get the count of the POS tag\n",
        "            count_tag = tag_counts[all_tags[i]]\n",
        "                \n",
        "            # Apply smoothing and store the smoothed value \n",
        "            # into the emission matrix B for this row and column\n",
        "            B[i,j] = (count + alpha) / (count_tag+ alpha*num_words)\n",
        "    # Create sorted version of the tag's list\n",
        "    \n",
        "\n",
        "    return B"
      ],
      "metadata": {
        "id": "AuOi6kfugBP_"
      },
      "execution_count": null,
      "outputs": []
    },
    {
      "cell_type": "code",
      "source": [
        "# creating your emission probability matrix. this takes a few minutes to run. \n",
        "B = create_emission_matrix(alpha, tag_counts, emission_counts, list(vocab))\n",
        "\n",
        "print(f\"View Matrix position at row 0, column 0: {B[0,0]:.9f}\")\n",
        "print(f\"View Matrix position at row 3, column 1: {B[3,1]:.9f}\")\n",
        "\n",
        "# Try viewing emissions for a few words in a sample dataframe\n",
        "cidx  = ['725','adroitly','engineers', 'promoted', 'synergy']\n",
        "\n",
        "# Get the integer ID for each word\n",
        "cols = [vocab[a] for a in cidx]\n",
        "\n",
        "# Choose POS tags to show in a sample dataframe\n",
        "rvals =['CD','NN','NNS', 'VB','RB','RP']\n",
        "\n",
        "# For each POS tag, get the row number from the 'states' list\n",
        "rows = [states.index(a) for a in rvals]\n",
        "\n",
        "# Get the emissions for the sample of words, and the sample of POS tags\n",
        "B_sub = pd.DataFrame(B[np.ix_(rows,cols)], index=rvals, columns = cidx )\n",
        "print(B_sub)"
      ],
      "metadata": {
        "id": "aHk48VkVgJ6y",
        "colab": {
          "base_uri": "https://localhost:8080/"
        },
        "outputId": "bdd9c765-9b65-41c9-8d27-88c5c714280f"
      },
      "execution_count": null,
      "outputs": [
        {
          "output_type": "stream",
          "name": "stdout",
          "text": [
            "View Matrix position at row 0, column 0: 0.000006032\n",
            "View Matrix position at row 3, column 1: 0.000000720\n",
            "              725      adroitly     engineers      promoted       synergy\n",
            "CD   8.201296e-05  2.732854e-08  2.732854e-08  2.732854e-08  2.732854e-08\n",
            "NN   7.521128e-09  7.521128e-09  7.521128e-09  7.521128e-09  2.257091e-05\n",
            "NNS  1.670013e-08  1.670013e-08  4.676203e-04  1.670013e-08  1.670013e-08\n",
            "VB   3.779036e-08  3.779036e-08  3.779036e-08  3.779036e-08  3.779036e-08\n",
            "RB   3.226454e-08  6.456135e-05  3.226454e-08  3.226454e-08  3.226454e-08\n",
            "RP   3.723317e-07  3.723317e-07  3.723317e-07  3.723317e-07  3.723317e-07\n"
          ]
        }
      ]
    },
    {
      "cell_type": "markdown",
      "source": [
        "#### Expected Output: \n",
        "\n",
        "```CPP\n",
        "View Matrix position at row 0, column 0: 0.000006032\n",
        "View Matrix position at row 3, column 1: 0.000000720\n",
        "              725      adroitly     engineers      promoted       synergy\n",
        "CD   8.201296e-05  2.732854e-08  2.732854e-08  2.732854e-08  2.732854e-08\n",
        "NN   7.521128e-09  7.521128e-09  7.521128e-09  7.521128e-09  2.257091e-05\n",
        "NNS  1.670013e-08  1.670013e-08  4.676203e-04  1.670013e-08  1.670013e-08\n",
        "VB   3.779036e-08  3.779036e-08  3.779036e-08  3.779036e-08  3.779036e-08\n",
        "RB   3.226454e-08  6.456135e-05  3.226454e-08  3.226454e-08  3.226454e-08\n",
        "RP   3.723317e-07  3.723317e-07  3.723317e-07  3.723317e-07  3.723317e-07\n",
        "```"
      ],
      "metadata": {
        "id": "P84N8BiukxSb"
      }
    },
    {
      "cell_type": "markdown",
      "source": [
        "### Task 3.4 Viterbi Algorithm\n",
        "\n",
        "In this part of the assignment you will implement the Viterbi algorithm. Specifically, you will use your two matrices, `A` and `B` to compute the Viterbi algorithm. \n",
        "\n",
        "We have decomposed this process into three main parts. \n",
        "\n",
        "* **Initialization** - In this part you initialize the `best_paths` and `best_probabilities` matrices that you will be populating in `feed_forward`.\n",
        "* **Feed forward** - At each step, you calculate the probability of each path happening and the best paths up to that point. \n",
        "* **Feed backward**: This allows you to find the best path with the highest probabilities. "
      ],
      "metadata": {
        "id": "Z0sqAdi8sTRM"
      }
    },
    {
      "cell_type": "markdown",
      "source": [
        "### Task 3.4.1 Initialization \n",
        "Write a program below that initializes the `best_probs` and the `best_paths` matrix. \n",
        "\n",
        "Both matrices will be initialized to zero except for column zero of `best_probs`.  \n",
        "- Column zero of `best_probs` is initialized with the assumption that the first word of the corpus was preceded by a start token (\"--s--\"). \n",
        "- This allows you to reference the **A** matrix for the transition probability\n",
        "\n",
        "Here is how to initialize column 0 of `best_probs`:\n",
        "- The probability of the best path going from the start index to a given POS tag indexed by integer $i$ is denoted by $\\textrm{best_probs}[s_{idx}, i]$.\n",
        "- This is estimated as the probability that the start tag transitions to the POS denoted by index $i$: $\\mathbf{A}[s_{idx}, i]$ AND that the POS tag denoted by $i$ emits the first word of the given corpus, which is $\\mathbf{B}[i, vocab[corpus[0]]]$.\n",
        "- Note that vocab[corpus[0]] refers to the first word of the corpus (the word at position 0 of the corpus). \n",
        "- **vocab** is a dictionary that returns the unique integer that refers to that particular word.\n"
      ],
      "metadata": {
        "id": "PiPp1B6atGT4"
      }
    },
    {
      "cell_type": "code",
      "source": [
        "import math\n",
        "\n",
        "# GRADED FUNCTION: initialize\n",
        "def initialize(states, tag_counts, A, B, corpus, vocab):\n",
        "    '''\n",
        "    Input: \n",
        "        states: a list of all possible parts-of-speech\n",
        "        tag_counts: a dictionary mapping each tag to its respective count\n",
        "        A: Transition Matrix of dimension (num_tags, num_tags)\n",
        "        B: Emission Matrix of dimension (num_tags, len(vocab))\n",
        "        corpus: a sequence of words whose POS is to be identified in a list \n",
        "        vocab: a dictionary where keys are words in vocabulary and value is an index\n",
        "    Output:\n",
        "        best_probs: matrix of dimension (num_tags, len(corpus)) of floats\n",
        "        best_paths: matrix of dimension (num_tags, len(corpus)) of integers\n",
        "    '''\n",
        "    \n",
        "    # Write your code here\n",
        "    # Get the total number of unique POS tags\n",
        "    num_tags = len(tag_counts)\n",
        "    \n",
        "    # Initialize best_probs matrix \n",
        "    # POS tags in the rows, number of words in the corpus as the columns\n",
        "    best_probs = np.zeros((num_tags, len(corpus)))\n",
        "    \n",
        "    # Initialize best_paths matrix\n",
        "    # POS tags in the rows, number of words in the corpus as columns\n",
        "    best_paths = np.zeros((num_tags, len(corpus)), dtype=int)\n",
        "    \n",
        "    # Define the start token\n",
        "    s_idx = states.index(\"--s--\")\n",
        "    \n",
        "    # Go through each of the POS tags\n",
        "    for i in range(num_tags): # complete this line\n",
        "        \n",
        "        # Handle the special case when the transition from start token to POS tag i is zero\n",
        "        if A[s_idx,i] == 0: # complete this line\n",
        "            \n",
        "            # Initialize best_probs at POS tag 'i', column 0, to negative infinity\n",
        "            best_probs[i,0] = float('-inf')\n",
        "        \n",
        "        # For all other cases when transition from start token to POS tag i is non-zero:\n",
        "        else:\n",
        "            \n",
        "            # Initialize best_probs at POS tag 'i', column 0\n",
        "            # Check the formula in the instructions above\n",
        "            best_probs[i,0] = math.log(A[s_idx,i]) + math.log(B[i,vocab[corpus[0]]] )\n",
        "           \n",
        "    return best_probs, best_paths"
      ],
      "metadata": {
        "id": "HnQNnScHsqUk"
      },
      "execution_count": null,
      "outputs": []
    },
    {
      "cell_type": "code",
      "source": [
        "best_probs, best_paths = initialize(states, tag_counts, A, B, prep, vocab)"
      ],
      "metadata": {
        "id": "mXvRxrscu1ub"
      },
      "execution_count": null,
      "outputs": []
    },
    {
      "cell_type": "code",
      "source": [
        "# Test the function\n",
        "print(f\"best_probs[0,0]: {best_probs[0,0]:.4f}\") \n",
        "print(f\"best_paths[2,3]: {best_paths[2,3]:.4f}\")"
      ],
      "metadata": {
        "id": "gs9rytMIu3Rf",
        "colab": {
          "base_uri": "https://localhost:8080/"
        },
        "outputId": "40ccb65d-d9dd-4a58-b434-095900b21823"
      },
      "execution_count": null,
      "outputs": [
        {
          "output_type": "stream",
          "name": "stdout",
          "text": [
            "best_probs[0,0]: -22.6098\n",
            "best_paths[2,3]: 0.0000\n"
          ]
        }
      ]
    },
    {
      "cell_type": "markdown",
      "source": [
        "#### Expected Output: \n",
        "\n",
        "```CPP\n",
        "best_probs[0,0]: -22.6098\n",
        "best_paths[2,3]: 0.0000\n",
        "```"
      ],
      "metadata": {
        "id": "ZSAH0VXXlAja"
      }
    },
    {
      "cell_type": "markdown",
      "source": [
        "### Task 3.4.2 Viterbi Forward Implementation\n",
        "\n",
        "In this part of the assignment, you will implement the `viterbi_forward` segment. In other words, you will populate your `best_probs` and `best_paths` matrices.\n",
        "- Walk forward through the corpus.\n",
        "- For each word, compute a probability for each possible tag. \n",
        "\n",
        "Store the best_path and best_prob for every possible tag for each word in the matrices `best_probs` and `best_tags` using the pseudo code below.\n",
        "\n",
        "`for each word in the corpus\n",
        "\n",
        "    for each POS tag type that this word may be\n",
        "    \n",
        "        for POS tag type that the previous word could be\n",
        "        \n",
        "            compute the probability that the previous word had a given POS tag, that the current word has a given POS tag, and that the POS tag would emit this current word.\n",
        "            \n",
        "            retain the highest probability computed for the current word\n",
        "            \n",
        "            set best_probs to this highest probability\n",
        "            \n",
        "            set best_paths to the index 'k', representing the POS tag of the previous word which produced the highest probability `"
      ],
      "metadata": {
        "id": "YJgTIbfKvrj7"
      }
    },
    {
      "cell_type": "code",
      "source": [
        "def viterbi_forward(A, B, test_corpus, best_probs, best_paths, vocab, corpus):\n",
        "    '''\n",
        "    Input: \n",
        "        A, B: The transiton and emission matrices respectively\n",
        "        test_corpus: a list containing a preprocessed corpus\n",
        "        best_probs: an initilized matrix of dimension (num_tags, len(corpus))\n",
        "        best_paths: an initilized matrix of dimension (num_tags, len(corpus))\n",
        "        vocab: a dictionary where keys are words in vocabulary and value is an index \n",
        "    Output: \n",
        "        best_probs: a completed matrix of dimension (num_tags, len(corpus))\n",
        "        best_paths: a completed matrix of dimension (num_tags, len(corpus))\n",
        "    '''\n",
        "    \n",
        "    # Write your code here\n",
        "    # Get the number of unique POS tags (which is the num of rows in best_probs)\n",
        "    num_tags = best_probs.shape[0]\n",
        "    \n",
        "    # Go through every word in the corpus starting from word 1\n",
        "    # Recall that word 0 was initialized in `initialize()`\n",
        "    for i in range(1, len(test_corpus)): \n",
        "        \n",
        "        # Print number of words processed, every 5000 words\n",
        "        if i % 5000 == 0:\n",
        "            print(\"Words processed: {:>8}\".format(i))\n",
        "        # For each unique POS tag that the current word can be\n",
        "        for j in range(num_tags): # complete this line\n",
        "            \n",
        "            # Initialize best_prob for word i to negative infinity\n",
        "            best_prob_i = float(\"-inf\")\n",
        "            \n",
        "            # Initialize best_path for current word i to None\n",
        "            best_path_i = None\n",
        "# For each POS tag that the previous word can be:\n",
        "            for k in range(num_tags): # complete this line\n",
        "            \n",
        "                # Calculate the probability = \n",
        "                # best probs of POS tag k, previous word i-1 + \n",
        "                # log(prob of transition from POS k to POS j) + \n",
        "                # log(prob that emission of POS j is word i)\n",
        "                prob = best_probs[k,i-1]+math.log(A[k,j]) +math.log(B[j,vocab[test_corpus[i]]])\n",
        "# check if this path's probability is greater than\n",
        "                # the best probability up to and before this point\n",
        "                if prob > best_prob_i: # complete this line\n",
        "                    \n",
        "                    # Keep track of the best probability\n",
        "                    best_prob_i = prob\n",
        "                    \n",
        "                    # keep track of the POS tag of the previous word\n",
        "                    # that is part of the best path.  \n",
        "                    # Save the index (integer) associated with \n",
        "                    # that previous word's POS tag\n",
        "                    best_path_i = k\n",
        "# Save the best probability for the \n",
        "            # given current word's POS tag\n",
        "            # and the position of the current word inside the corpus\n",
        "            best_probs[j,i] = best_prob_i\n",
        "            \n",
        "            # Save the unique integer ID of the previous POS tag\n",
        "            # into best_paths matrix, for the POS tag of the current word\n",
        "            # and the position of the current word inside the corpus.\n",
        "            best_paths[j,i] = best_path_i\n",
        "    return best_probs, best_paths"
      ],
      "metadata": {
        "id": "FJWBl5IYwYS0"
      },
      "execution_count": null,
      "outputs": []
    },
    {
      "cell_type": "code",
      "source": [
        "# this will take a few minutes to run => processes ~ 30,000 words\n",
        "best_probs, best_paths = viterbi_forward(A, B, prep, best_probs, best_paths, vocab, prep)"
      ],
      "metadata": {
        "id": "9e23XCrSwcAo",
        "colab": {
          "base_uri": "https://localhost:8080/"
        },
        "outputId": "1b25d333-efeb-4f96-9289-a70c05d2ad62"
      },
      "execution_count": null,
      "outputs": [
        {
          "output_type": "stream",
          "name": "stdout",
          "text": [
            "Words processed:     5000\n",
            "Words processed:    10000\n",
            "Words processed:    15000\n",
            "Words processed:    20000\n",
            "Words processed:    25000\n",
            "Words processed:    30000\n"
          ]
        }
      ]
    },
    {
      "cell_type": "code",
      "source": [
        "# Test this function \n",
        "print(f\"best_probs[0,1]: {best_probs[0,1]:.4f}\") \n",
        "print(f\"best_probs[0,4]: {best_probs[0,4]:.4f}\") "
      ],
      "metadata": {
        "id": "ByhnCk4UweLT",
        "colab": {
          "base_uri": "https://localhost:8080/"
        },
        "outputId": "0159837d-9037-4810-9550-4dd17f484150"
      },
      "execution_count": null,
      "outputs": [
        {
          "output_type": "stream",
          "name": "stdout",
          "text": [
            "best_probs[0,1]: -24.7822\n",
            "best_probs[0,4]: -49.5601\n"
          ]
        }
      ]
    },
    {
      "cell_type": "markdown",
      "source": [
        "#### Expected Output: \n",
        "\n",
        "```CPP\n",
        "best_probs[0,1]: -35.2828\n",
        "best_probs[0,4]: -54.4040\n",
        "```"
      ],
      "metadata": {
        "id": "JjUDVP7alH0A"
      }
    },
    {
      "cell_type": "markdown",
      "source": [
        "### Task 3.4.3 Viterbi Backward Implementation\n",
        "\n",
        "<a name='2.4'></a>\n",
        "## Part 2.4 Viterbi backward\n",
        "\n",
        "Now you will implement the Viterbi backward algorithm.\n",
        "- The Viterbi backward algorithm gets the predictions of the POS tags for each word in the corpus using the `best_paths` and the `best_probs` matrices.\n",
        "\n",
        "The example below shows how to walk backwards through the best_paths matrix to get the POS tags of each word in the corpus. Recall that this example corpus has three words: \"Loss tracks upward\".\n",
        "\n",
        "POS tag for 'upward' is `RB`\n",
        "- Select the the most likely POS tag for the last word in the corpus, 'upward' in the `best_prob` table.\n",
        "- Look for the row in the column for 'upward' that has the largest probability.\n",
        "- Notice that in row 28 of `best_probs`, the estimated probability is -34.99, which is larger than the other values in the column.  So the most likely POS tag for 'upward' is `RB` an adverb, at row 28 of `best_prob`. \n",
        "- The variable `z` is an array that stores the unique integer ID of the predicted POS tags for each word in the corpus.  In array z, at position 2, store the value 28 to indicate that the word 'upward' (at index 2 in the corpus), most likely has the POS tag associated with unique ID 28 (which is `RB`).\n",
        "- The variable `pred` contains the POS tags in string form.  So `pred` at index 2 stores the string `RB`.\n",
        "\n",
        "\n",
        "POS tag for 'tracks' is `VBZ`\n",
        "- The next step is to go backward one word in the corpus ('tracks').  Since the most likely POS tag for 'upward' is `RB`, which is uniquely identified by integer ID 28, go to the `best_paths` matrix in column 2, row 28.  The value stored in `best_paths`, column 2, row 28 indicates the unique ID of the POS tag of the previous word.  In this case, the value stored here is 40, which is the unique ID for POS tag `VBZ` (verb, 3rd person singular present).\n",
        "- So the previous word at index 1 of the corpus ('tracks'), most likely has the POS tag with unique ID 40, which is `VBZ`.\n",
        "- In array `z`, store the value 40 at position 1, and for array `pred`, store the string `VBZ` to indicate that the word 'tracks' most likely has POS tag `VBZ`.\n",
        "\n",
        "POS tag for 'Loss' is `NN`\n",
        "- In `best_paths` at column 1, the unique ID stored at row 40 is 20.  20 is the unique ID for POS tag `NN`.\n",
        "- In array `z` at position 0, store 20.  In array `pred` at position 0, store `NN`.\n"
      ],
      "metadata": {
        "id": "0-xcj0KsxRws"
      }
    },
    {
      "cell_type": "code",
      "source": [
        "# GRADED FUNCTION: viterbi_backward\n",
        "def viterbi_backward(best_probs, best_paths, corpus, states):\n",
        "    '''\n",
        "    This function returns the best path.\n",
        "    \n",
        "    '''\n",
        "    # Write your code here\n",
        "    # Get the number of words in the corpus\n",
        "    # which is also the number of columns in best_probs, best_paths\n",
        "    m = best_paths.shape[1] \n",
        "    \n",
        "    # Initialize array z, same length as the corpus\n",
        "    z = [None] * m\n",
        "    \n",
        "    # Get the number of unique POS tags\n",
        "    num_tags = best_probs.shape[0]\n",
        "    \n",
        "    # Initialize the best probability for the last word\n",
        "    best_prob_for_last_word = float('-inf')\n",
        "    \n",
        "    # Initialize pred array, same length as corpus\n",
        "    pred = [None] * m\n",
        "    \n",
        "    ## Step 1 ##\n",
        "    \n",
        "    # Go through each POS tag for the last word (last column of best_probs)\n",
        "    # in order to find the row (POS tag integer ID) \n",
        "    # with highest probability for the last word\n",
        "    for k in range(num_tags): # complete this line\n",
        "# If the probability of POS tag at row k \n",
        "        # is better than the previously best probability for the last word:\n",
        "        if best_probs[k,-1]>best_prob_for_last_word: # complete this line\n",
        "            \n",
        "            # Store the new best probability for the last word\n",
        "            best_prob_for_last_word = best_probs[k,-1]\n",
        "    \n",
        "            # Store the unique integer ID of the POS tag\n",
        "            # which is also the row number in best_probs\n",
        "            z[m - 1] = k\n",
        "            \n",
        "    # Convert the last word's predicted POS tag\n",
        "    # from its unique integer ID into the string representation\n",
        "    # using the 'states' list\n",
        "    # store this in the 'pred' array for the last word\n",
        "    pred[m - 1] = states[k]\n",
        "    \n",
        "    ## Step 2 ##\n",
        "    # Find the best POS tags by walking backward through the best_paths\n",
        "    # From the last word in the corpus to the 0th word in the corpus\n",
        "    for i in range(len(corpus)-1, -1, -1): # complete this line\n",
        "        \n",
        "        # Retrieve the unique integer ID of\n",
        "        # the POS tag for the word at position 'i' in the corpus\n",
        "        pos_tag_for_word_i = best_paths[np.argmax(best_probs[:,i]),i]\n",
        "        \n",
        "        # In best_paths, go to the row representing the POS tag of word i\n",
        "        # and the column representing the word's position in the corpus\n",
        "        # to retrieve the predicted POS for the word at position i-1 in the corpus\n",
        "        z[i - 1] = best_paths[pos_tag_for_word_i,i]\n",
        "        \n",
        "        # Get the previous word's POS tag in string form\n",
        "        # Use the 'states' list, \n",
        "        # where the key is the unique integer ID of the POS tag,\n",
        "        # and the value is the string representation of that POS tag\n",
        "        pred[i - 1] = states[pos_tag_for_word_i]\n",
        "    return pred"
      ],
      "metadata": {
        "id": "bmmwhv-Ex6VC"
      },
      "execution_count": null,
      "outputs": []
    },
    {
      "cell_type": "code",
      "source": [
        "# Run and test your function\n",
        "pred = viterbi_backward(best_probs, best_paths, prep, states)\n",
        "m=len(pred)\n",
        "print('The prediction for pred[-7:m-1] is: \\n', prep[-7:m-1], \"\\n\", pred[-7:m-1], \"\\n\")\n",
        "print('The prediction for pred[0:8] is: \\n', pred[0:7], \"\\n\", prep[0:7])"
      ],
      "metadata": {
        "id": "4FMVOc_6zXVT",
        "colab": {
          "base_uri": "https://localhost:8080/"
        },
        "outputId": "382f89bf-bf6f-4546-ae54-41bbfa93bc58"
      },
      "execution_count": null,
      "outputs": [
        {
          "output_type": "stream",
          "name": "stdout",
          "text": [
            "The prediction for pred[-7:m-1] is: \n",
            " ['see', 'them', 'here', 'with', 'us', '.'] \n",
            " ['VB', 'PRP', 'RB', 'IN', 'PRP', '.'] \n",
            "\n",
            "The prediction for pred[0:8] is: \n",
            " ['DT', 'NN', 'POS', 'NN', 'MD', 'VB', 'VBN'] \n",
            " ['The', 'economy', \"'s\", 'temperature', 'will', 'be', 'taken']\n"
          ]
        }
      ]
    },
    {
      "cell_type": "markdown",
      "source": [
        "#### Expected Output: \n",
        "\n",
        "```CPP\n",
        "The prediction for pred[-7:m-1] is: \n",
        " ['see', 'them', 'here', 'with', 'us', '.'] \n",
        " ['VB', 'PRP', 'RB', 'IN', 'PRP', '.'] \n",
        "\n",
        "The prediction for pred[0:8] is: \n",
        " ['DT', 'NN', 'POS', 'NN', 'MD', 'VB', 'VBN'] \n",
        " ['The', 'economy', \"'s\", 'temperature', 'will', 'be', 'taken']\n",
        "```"
      ],
      "metadata": {
        "id": "9JIYGEv6lO_f"
      }
    },
    {
      "cell_type": "markdown",
      "source": [
        "### Predicting on the dataset and print accuracy"
      ],
      "metadata": {
        "id": "aQHA_61Qzbn9"
      }
    },
    {
      "cell_type": "code",
      "source": [
        "print('The word is:', prep[3])\n",
        "print('Your prediction is:', pred[3])\n",
        "print('Your corresponding label y is: ', y[3])\n",
        "print(f\"Accuracy of the Viterbi algorithm is {compute_accuracy(pred, y):.4f}\")"
      ],
      "metadata": {
        "id": "w1n_WCDqzax6",
        "colab": {
          "base_uri": "https://localhost:8080/"
        },
        "outputId": "debe7236-75fc-49df-fd15-2b0a14c6c41a"
      },
      "execution_count": null,
      "outputs": [
        {
          "output_type": "stream",
          "name": "stdout",
          "text": [
            "The word is: temperature\n",
            "Your prediction is: NN\n",
            "Your corresponding label y is:  temperature\tNN\n",
            "\n",
            "Accuracy of the Viterbi algorithm is 0.9528\n"
          ]
        }
      ]
    },
    {
      "cell_type": "markdown",
      "source": [
        "#### Expected Output: \n",
        "\n",
        "```CPP\n",
        "The word is: points\n",
        "Your prediction is: VBZ\n",
        "Your corresponding label y is:  points\tNNS\n",
        "\n",
        "Accuracy of the Viterbi algorithm is 0.9531\n",
        "```"
      ],
      "metadata": {
        "id": "LzROssM3lS-x"
      }
    }
  ]
}